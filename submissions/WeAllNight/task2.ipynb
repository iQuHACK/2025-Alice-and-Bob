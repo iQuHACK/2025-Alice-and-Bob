{
  "nbformat": 4,
  "nbformat_minor": 0,
  "metadata": {
    "colab": {
      "provenance": []
    },
    "kernelspec": {
      "name": "python3",
      "display_name": "Python 3"
    },
    "language_info": {
      "name": "python"
    }
  },
  "cells": [
    {
      "cell_type": "code",
      "execution_count": null,
      "metadata": {
        "id": "6TluR-Y7HLG6"
      },
      "outputs": [],
      "source": [
        "%%capture\n",
        "!pip install dynamiqs"
      ]
    },
    {
      "cell_type": "code",
      "source": [
        "import dynamiqs as dq\n",
        "import jax\n",
        "import jax.numpy as jnp\n",
        "from scipy import constants\n",
        "import matplotlib.pyplot as plt"
      ],
      "metadata": {
        "id": "tVufKF_OHP5n"
      },
      "execution_count": null,
      "outputs": []
    },
    {
      "cell_type": "markdown",
      "source": [
        "## 2. Simulate the dynamics of cat qubits at the circuit level.\n",
        "\n",
        "When simulating a quantum system at the circuit level, the system becomes a bit more complex.\n",
        "In Tutorial 2, we have seen that ATS with a flux pump can be used to engineer the two-photon interaction, let's simulate this in practice:\n",
        "\n",
        "For this, consider the Lindblad master equation:\n",
        "\n",
        "$$\\frac{d \\hat{\\rho}}{dt} = \\mathcal{L}[\\hat{\\rho}] = -i \\left[\\hat{H}, \\hat{\\rho}\\right] + \\kappa_b \\mathcal{D}(\\hat{b})[\\hat{\\rho}] +  \\kappa_a \\mathcal{D}(\\hat{a})[\\hat{\\rho}]$$\n",
        "\n",
        "At the saddle point ($\\varphi_\\Sigma = \\pi/2 + \\epsilon(t)$, $\\varphi_\\Delta = \\pi/2$) the Hamiltonian of the system in the lab frame is given by\n",
        "```math\n",
        "\\begin{aligned}\n",
        "\\hat{H} &= \\hat{H}_0 + \\hat{H}_{\\mathrm{ATS}} + \\hat{H}_d,\\qquad \\mathrm{with}\\\\\n",
        "\\hat{H}_0 &= \\omega_{a,0}\\hat{a}^\\dagger \\hat{a} + \\omega_{b,0} \\hat{b}^\\dagger \\hat{b}\\\\\n",
        "\\hat{H}_{ATS} &= -2 E_J \\sin(\\epsilon(t)) \\sin(\\hat{\\varphi}) +2 \\Delta E_J \\cos(\\epsilon(t)) \\cos(\\hat{\\varphi}),\\\\\n",
        "\\hat{H}_d &= 2 \\epsilon_d \\cos(\\omega_d t) \\left(\\hat{b} +  \\hat{b}^\\dagger\\right).\n",
        "\\end{aligned}\n",
        "```\n",
        "\n",
        "Here, $\\epsilon(t) = \\epsilon_p \\cos(\\omega_p t)$.\n",
        "\n",
        "**Task 2.1: Lab frame simulation**\n",
        "\n",
        "Using `dynamiqs`, simulate the time-evolution of this system with the following parameters (taken [from this paper](https://arxiv.org/abs/2307.06617)):\n",
        "\n",
        "\\begin{aligned}\n",
        "\\omega_{a,0}/2\\pi &= 5.26\\; \\mathrm{GHz}\\\\\n",
        "\\omega_{b,0}/2\\pi &= 7.70\\; \\mathrm{GHz}\\\\\n",
        "\\varphi_a &= 0.06\\\\\n",
        "\\varphi_b &= 0.29\\\\\n",
        "E_J/h &= 42.76\\; \\mathrm{GHz}\\\\\n",
        "\\Delta E_J / h &= 0.47\\;\\mathrm{GHz}\\\\\n",
        "\\omega_d/2\\pi &= 7.623 \\; \\mathrm{GHz}\\\\\n",
        "\\omega_p/2\\pi &= 2.891 \\; \\mathrm{GHz}\\\\\n",
        "\\epsilon_d/2\\pi &= -3.815 \\; \\mathrm{MHz}\\\\\n",
        "\\epsilon_p &= 0.122 \\; \\mathrm{rad}\n",
        "\\end{aligned}\n",
        "\n",
        "\n",
        "Starting from the vacuum in both modes, simulate the dynamics of this system for a time $T = X \\; \\mu \\mathrm{s}$.\n",
        "Plot the evolution of the wigner function in mode a.\n",
        "\n"
      ],
      "metadata": {
        "id": "0R_GyM9tBR8E"
      }
    },
    {
      "cell_type": "code",
      "source": [
        "# Parameters (converted to angular frequencies)\n",
        "omega_a = 5.26 * 2 * jnp.pi  # GHz to rad/μs\n",
        "omega_b = 7.70 * 2 * jnp.pi\n",
        "phi_a = 0.06\n",
        "phi_b = 0.29\n",
        "E_J = 42.76 * constants.h\n",
        "Delta_E_J = 0.47 * constants.h\n",
        "omega_d = 7.623 * 2 * jnp.pi\n",
        "omega_p = 2.891 * 2 * jnp.pi\n",
        "epsilon_d = -3.815 * 1e-3 * 2 * jnp.pi  # MHz to rad/μs\n",
        "epsilon_p = 0.122  # rad"
      ],
      "metadata": {
        "id": "Gt4rY2eaHYai"
      },
      "execution_count": null,
      "outputs": []
    },
    {
      "cell_type": "code",
      "source": [
        "T = 4.0  # μs\n",
        "num_steps = 1000\n",
        "tsave = jnp.linspace(0, T, num_steps)\n",
        "\n",
        "# Hilbert space dimensions\n",
        "N_a = 30  # Mode a truncation\n",
        "N_b = 7  # Mode b truncation\n",
        "\n",
        "# Quantum operators\n",
        "a = dq.tensor(dq.destroy(N_a), dq.eye(N_b))  # Correct tensor product\n",
        "b = dq.tensor(dq.eye(N_a), dq.destroy(N_b))  # Correct tensor product\n",
        "a_dag = dq.tensor(dq.destroy(N_a).dag(), dq.eye(N_b))  # Explicit Hermitian conjugate\n",
        "b_dag = dq.tensor(dq.eye(N_a), dq.destroy(N_b).dag())  # Explicit Hermitian conjugate\n",
        "\n",
        "# Time-dependent ATS Hamiltonian\n",
        "def H_total(t):\n",
        "    # Static Hamiltonian components\n",
        "    H0 = (\n",
        "        omega_a * (a_dag @ a) +\n",
        "        omega_b * (b_dag @ b)\n",
        "    )\n",
        "\n",
        "    eps_t = epsilon_p * jnp.cos(omega_p * t)\n",
        "\n",
        "    # Construct phi_hat with proper tensor structure\n",
        "    phi_op = (\n",
        "        phi_a * (a + a_dag) +\n",
        "        phi_b * (b + b_dag)\n",
        "    )\n",
        "\n",
        "    # Convert to JAX array and compute trigonometric terms\n",
        "    phi_delta = jnp.pi/2\n",
        "    phi_jax = dq.to_jax(phi_op)\n",
        "    sin_term = dq.asqarray(jnp.sin(phi_jax), (N_a,N_b))\n",
        "    cos_term = dq.asqarray(jnp.cos(phi_jax), (N_a,N_b))\n",
        "\n",
        "    H_ATS = (\n",
        "        -2 * E_J * jnp.sin(eps_t) * sin_term +\n",
        "        2 * Delta_E_J * jnp.cos(eps_t) * cos_term\n",
        "    )\n",
        "\n",
        "    drive_term = 2 * epsilon_d * jnp.cos(omega_d * t)\n",
        "    H_d = drive_term * (b + b_dag)\n",
        "\n",
        "    return dq.asqarray(H0 + H_ATS + H_d)\n",
        "\n",
        "# Convert to TimeQarray\n",
        "H_total_tq = dq.timecallable(H_total)\n",
        "\n",
        "# Dissipation operators (already properly tensored)\n",
        "kappa_a = 9.3 * omega_a / (2 * jnp.pi)\n",
        "kappa_b = 2.6 * omega_b / (2 * jnp.pi)\n",
        "L_a = jnp.sqrt(kappa_a) * a\n",
        "L_b = jnp.sqrt(kappa_b) * b\n",
        "\n",
        "# Initial state (vacuum)\n",
        "rho0 = dq.tensor(dq.fock_dm(N_a, 0), dq.fock_dm(N_b, 0))\n",
        "\n",
        "# Solve the master equation\n",
        "result = dq.mesolve(H_total_tq, [L_a, L_b], rho0, tsave)"
      ],
      "metadata": {
        "colab": {
          "base_uri": "https://localhost:8080/"
        },
        "id": "Oaa9iUpVHhIM",
        "outputId": "20d54374-43f2-42ce-d14c-edf519ff36d2"
      },
      "execution_count": null,
      "outputs": [
        {
          "output_type": "stream",
          "name": "stderr",
          "text": [
            "<ipython-input-4-c33113c65198>:45: UserWarning: A sparse qarray has been converted to dense layout due to element-wise addition with a dense qarray.\n",
            "  return dq.asqarray(H0 + H_ATS + H_d)\n",
            "/usr/local/lib/python3.11/dist-packages/dynamiqs/qarrays/qarray.py:481: UserWarning: A sparse qarray has been converted to dense layout due to element-wise addition with a dense qarray.\n",
            "  return self.__add__(y)\n"
          ]
        }
      ]
    },
    {
      "cell_type": "code",
      "source": [
        "dq.plot.wigner_mosaic(dq.ptrace(result.states, 0, (N_a, N_b)), cross = True)"
      ],
      "metadata": {
        "colab": {
          "base_uri": "https://localhost:8080/",
          "height": 239
        },
        "id": "sCHefemQIjyA",
        "outputId": "8d01ff0e-56db-42ca-eb87-fce6893076f9"
      },
      "execution_count": null,
      "outputs": [
        {
          "output_type": "stream",
          "name": "stderr",
          "text": [
            "|██████████| 100.0% ◆ elapsed 02m13s ◆ remaining 0.00ms\n"
          ]
        },
        {
          "output_type": "display_data",
          "data": {
            "text/plain": [
              "<Figure size 2400x300 with 8 Axes>"
            ],
            "image/png": "[encoded data removed]"
          },
          "metadata": {}
        }
      ]
    },
    {
      "cell_type": "markdown",
      "source": [
        "We tried to apply the correct formula to present a wigner diagram. We suspect that our problem was about the time-dependency issue such that it seems to be stationery throughout the whole process"
      ],
      "metadata": {
        "id": "472VsXMwIJP4"
      }
    },
    {
      "cell_type": "markdown",
      "source": [
        "**Task 2.2: Rotated-displaced frame simulation**\n",
        "\n",
        "To compare with the system at the effective Hamiltonian level, we have to transform our circuit level system into a rotated-displaced frame.\n",
        "Find the correct rotated-displaced frame for the system.\n",
        "\n",
        "Then, simulate the time-evolution of this system with the previous parameters.\n",
        "\n",
        "Plot again the evolution of the wigner funciton in mode a. What is different in this frame?\n"
      ],
      "metadata": {
        "id": "TJJZ4JFGBK3k"
      }
    },
    {
      "cell_type": "code",
      "source": [
        "import numpy as np\n",
        "\n",
        "#initialization:\n",
        "delta_a, delta_b = (0.0,0.0) # set initial AC Stark shifts to zero\n",
        "omega_p = 2*omega_a - omega_b # initial frequency matching condition\n",
        "\n",
        "#recursion loop to compute AC Stark shift:\n",
        "rec_depth = 30\n",
        "for i in range(rec_depth):\n",
        "    #compute xi for mode a and b:\n",
        "    alpha_1 = 1j*E_J*epsilon_p*phi_a / (kappa_a/2 + 1j*(omega_a - omega_p))\n",
        "    alpha_2 = 1j*E_J*epsilon_p*phi_a / (kappa_a/2 + 1j*(omega_a + omega_p))\n",
        "\n",
        "    beta_1 = 1j*E_J*epsilon_p*phi_b / (kappa_b/2 + 1j*(omega_b - omega_p))\n",
        "    beta_2 = 1j*E_J*epsilon_p*phi_b / (kappa_b/2 + 1j*(omega_b + omega_p))\n",
        "\n",
        "    pre = (np.real(alpha_1) + np.real(alpha_2)) * phi_a \\\n",
        "    + (np.real(beta_1) + np.real(beta_2)) * phi_b\n",
        "    #compute AC Stark shifts:\n",
        "    delta_a = 1/3*E_J * epsilon_p * phi_a**2 * pre\n",
        "    delta_b = 1/3*E_J * epsilon_p * phi_b**2 * pre\n",
        "\n",
        "    #recompute frequencies\n",
        "    omega_a = omega_a - 2*Delta_E_J*phi_a**2 + delta_a\n",
        "    omega_b = omega_b - 2*Delta_E_J*phi_b**2 + delta_b\n",
        "    omega_p = 2*omega_a - omega_b\n",
        "\n",
        "omega_d = omega_b"
      ],
      "metadata": {
        "id": "zLYeMtd_BfbZ"
      },
      "execution_count": null,
      "outputs": []
    },
    {
      "cell_type": "code",
      "source": [
        "#Fock-space dimension in the memory mode:\n",
        "n_fock_a = 30\n",
        "#Fock-space dimension in the buffer mode:\n",
        "n_fock_b = 7\n",
        "\n",
        "#annihilation operators:\n",
        "a, b = dq.destroy(n_fock_a, n_fock_b)\n",
        "\n",
        "#identity operator:\n",
        "identity = dq.tensor(dq.eye(n_fock_a), dq.eye(n_fock_b))"
      ],
      "metadata": {
        "id": "HeF0ZxnaBh8l"
      },
      "execution_count": null,
      "outputs": []
    },
    {
      "cell_type": "code",
      "source": [
        "# define the ATS driving term\n",
        "eps_ats = lambda t: epsilon_p*jnp.cos(omega_p*t)\n",
        "def op_rot_displaced(t, op, omega_rot, dis):\n",
        "    return op*jnp.exp(-1j*omega_rot*t) + dis * identity"
      ],
      "metadata": {
        "id": "RD64VHymBqF1"
      },
      "execution_count": null,
      "outputs": []
    },
    {
      "cell_type": "code",
      "source": [
        "def hamiltonian_rotating_displaced(t):\n",
        "\n",
        "    #compute displacement fields\n",
        "    alpha_t = alpha_1*jnp.exp(-1j*omega_p*t) + alpha_2*jnp.exp(1j*omega_p*t)\n",
        "    beta_t = beta_1*jnp.exp(-1j*omega_p*t) + beta_2*jnp.exp(1j*omega_p*t)\n",
        "\n",
        "\n",
        "    # the displaced rotating frame introduces a drive and detuning\n",
        "    d_alpha_t = 1j*omega_p * (alpha_2*jnp.exp(1j*omega_p*t) - alpha_1*jnp.exp(-1j*omega_p*t))\n",
        "    d_beta_t = 1j*omega_p * (beta_2*jnp.exp(1j*omega_p*t) - beta_1*jnp.exp(-1j*omega_p*t))\n",
        "\n",
        "\n",
        "    #compute rotated displaced operators:\n",
        "    a_f = op_rot_displaced(t, a, omega_a, d_alpha_t)\n",
        "    b_f = op_rot_displaced(t, b, omega_b, d_beta_t)\n",
        "    bdag_f = op_rot_displaced(t, b.dag(), omega_b, d_beta_t)\n",
        "    adag_f = op_rot_displaced(t, a.dag(), omega_a, d_alpha_t)\n",
        "\n",
        "    #rot matrix\n",
        "\n",
        "    omega_rot_a = 2*omega_a - omega_b\n",
        "    omega_rot_b = 2*omega_b - omega_a\n",
        "\n",
        "    #displaced rotated phase operator\n",
        "    phi_f = phi_a*(a_f + adag_f) + phi_b*(b_f + bdag_f)\n",
        "\n",
        "    #linear term\n",
        "    h_0 = omega_a * adag_f @ a_f + omega_b * bdag_f @ b_f\n",
        "\n",
        "    #term from derivative of rotating frame\n",
        "    h_rot = - omega_rot_a * dq.dag(a) @ a  - omega_rot_b * dq.dag(b) @ b\n",
        "\n",
        "    #term from derivative of displaced frame\n",
        "    h_dis =  -1j*(d_alpha_t*dq.dag(a)*jnp.exp(1j*omega_rot_a*t)-jnp.conj(d_alpha_t)*a*jnp.exp(-1j*omega_rot_a*t)) \\\n",
        "      - 1j*(d_beta_t*dq.dag(b)*jnp.exp(1j*omega_rot_b*t)-jnp.conj(d_beta_t)*b*jnp.exp(-1j*omega_rot_b*t))\n",
        "\n",
        "\n",
        "    #ats term:\n",
        "    sinterm = jnp.sin(eps_ats(t)) * dq.sinm(phi_f)\n",
        "    costerm = jnp.cos(eps_ats(t)) * dq.cosm(phi_f)\n",
        "    h_ats = - 2*E_J*sinterm +  2*Delta_E_J*costerm\n",
        "\n",
        "    #drive on the buffer:\n",
        "    # in the rotating frame, this term is non-rotating\n",
        "    h_buffer_drive = jnp.conj(epsilon_d)*jnp.exp(1j*omega_d*t)*b_f \\\n",
        "        + epsilon_d * jnp.exp(-1j*omega_d*t) * bdag_f\n",
        "\n",
        "    return h_0 + h_ats + h_buffer_drive + h_rot + h_dis\n",
        "\n"
      ],
      "metadata": {
        "id": "zQgjfMpTBLXE"
      },
      "execution_count": null,
      "outputs": []
    },
    {
      "cell_type": "code",
      "source": [
        "kappa_a = 9.3 * omega_a / (2 * jnp.pi)\n",
        "kappa_b = 2.6 * omega_b / (2 * jnp.pi)\n",
        "L_a = jnp.sqrt(kappa_a) * a\n",
        "L_b = jnp.sqrt(kappa_b) * b\n",
        "\n",
        "# Initial state (vacuum)\n",
        "rho0 = dq.tensor(dq.fock_dm(N_a, 0), dq.fock_dm(N_b, 0))\n",
        "\n",
        "# Solve the master equation\n",
        "result1 = dq.mesolve(hamiltonian_rotating_displaced(0), [L_a, L_b], rho0, tsave)"
      ],
      "metadata": {
        "id": "QhvXCFdCCU4d",
        "colab": {
          "base_uri": "https://localhost:8080/"
        },
        "outputId": "a2d36add-b4e6-4da0-e86e-f1a29c94eded"
      },
      "execution_count": null,
      "outputs": [
        {
          "output_type": "stream",
          "name": "stderr",
          "text": [
            "/usr/local/lib/python3.11/dist-packages/equinox/_module.py:1096: UserWarning: A `SparseDIAQArray` has been converted to a `DenseQArray` while computing its matrix exponential.\n",
            "  return self.__func__(self.__self__, *args, **kwargs)\n",
            "<ipython-input-10-8f0ebfa767bb>:48: UserWarning: A sparse qarray has been converted to dense layout due to element-wise addition with a dense qarray.\n",
            "  return h_0 + h_ats + h_buffer_drive + h_rot + h_dis\n",
            "/usr/local/lib/python3.11/dist-packages/dynamiqs/qarrays/qarray.py:481: UserWarning: A sparse qarray has been converted to dense layout due to element-wise addition with a dense qarray.\n",
            "  return self.__add__(y)\n",
            "|          |   0.0% ◆ elapsed 0.00ms ◆ remaining ?"
          ]
        }
      ]
    },
    {
      "cell_type": "code",
      "source": [
        "dq.plot.wigner_mosaic(dq.ptrace(result1.states, 0, (N_a, N_b)), cross = True)"
      ],
      "metadata": {
        "id": "MJRX2qbMCYTy",
        "colab": {
          "base_uri": "https://localhost:8080/",
          "height": 239
        },
        "outputId": "6638ec4c-3fd5-4552-edc4-5e8f2335e014"
      },
      "execution_count": null,
      "outputs": [
        {
          "output_type": "stream",
          "name": "stderr",
          "text": [
            "|██████████| 100.0% ◆ elapsed 14.27s ◆ remaining 0.00ms\n"
          ]
        },
        {
          "output_type": "display_data",
          "data": {
            "text/plain": [
              "<Figure size 2400x300 with 8 Axes>"
            ],
            "image/png": "[encoded data removed]"
          },
          "metadata": {}
        }
      ]
    },
    {
      "cell_type": "markdown",
      "source": [
        "Same issue with 2.2 even though we have used the hint. Time dependency is the critical spectrum that we didn't hit that accurately. I think if we have more time we can solve this task, but we gotta slee"
      ],
      "metadata": {
        "id": "qVQ4hqf-Ib2e"
      }
    }
  ]
}