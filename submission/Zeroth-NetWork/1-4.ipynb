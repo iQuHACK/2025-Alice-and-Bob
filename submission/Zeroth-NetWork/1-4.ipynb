{
 "cells": [
  {
   "cell_type": "code",
   "execution_count": 81,
   "metadata": {},
   "outputs": [],
   "source": [
    "import dynamiqs as dq\n",
    "import jax\n",
    "import jax.numpy as jnp # the JAX version of numpy\n",
    "from matplotlib import pyplot as plt\n",
    "import scipy\n",
    "\n"
   ]
  },
  {
   "cell_type": "code",
   "execution_count": 82,
   "metadata": {},
   "outputs": [],
   "source": [
    "jax.devices()\n",
    "dq.set_device('cpu')\n",
    "\n",
    "dq.set_precision('simple')"
   ]
  },
  {
   "cell_type": "code",
   "execution_count": 83,
   "metadata": {},
   "outputs": [
    {
     "name": "stderr",
     "output_type": "stream",
     "text": [
      "|          |   0.0% ◆ elapsed 0.00ms ◆ remaining ?"
     ]
    }
   ],
   "source": [
    "#CODE for comparison -- 1.1\n",
    "na = 20\n",
    "nb = 5\n",
    "g2 = 1 #chlling\n",
    "eps = -4\n",
    "Kb = 10\n",
    "T = 3\n",
    "tsave = jnp.linspace(0, T, 50)\n",
    "\n",
    "a, b = dq.destroy(na, nb)\n",
    "\n",
    "H = g2 * dq.dag(a) @ dq.dag(a) @ b  + jnp.conj(g2) * a @ a @ dq.dag(b) + jnp.conj(eps) * b + eps * dq.dag(b)# Hamiltonian\n",
    "\n",
    "#initial state and save time\n",
    "psi0 = dq.fock((na,nb), (0,0))  # coherent state\n",
    "\n",
    "jump_ops = [jnp.sqrt(Kb)*b]\n",
    "res_2_mode = dq.mesolve(H,jump_ops, psi0, tsave)\n"
   ]
  },
  {
   "cell_type": "code",
   "execution_count": 48,
   "metadata": {},
   "outputs": [
    {
     "name": "stderr",
     "output_type": "stream",
     "text": [
      "|          |   0.3% ◆ elapsed 1.66ms ◆ remaining 0.00ms"
     ]
    },
    {
     "name": "stderr",
     "output_type": "stream",
     "text": [
      "|██████████| 100.0% ◆ elapsed 119.38ms ◆ remaining 0.00ms \n"
     ]
    },
    {
     "name": "stderr",
     "output_type": "stream",
     "text": [
      "|          |   0.3% ◆ elapsed 1.49ms ◆ remaining 0.00ms"
     ]
    },
    {
     "name": "stderr",
     "output_type": "stream",
     "text": [
      "|██████████| 100.0% ◆ elapsed 117.27ms ◆ remaining 0.00ms \n"
     ]
    },
    {
     "name": "stderr",
     "output_type": "stream",
     "text": [
      "|          |   0.3% ◆ elapsed 1.73ms ◆ remaining 0.00ms"
     ]
    },
    {
     "name": "stderr",
     "output_type": "stream",
     "text": [
      "|██████████| 100.0% ◆ elapsed 121.66ms ◆ remaining 0.00ms \n"
     ]
    },
    {
     "name": "stderr",
     "output_type": "stream",
     "text": [
      "|          |   0.3% ◆ elapsed 2.92ms ◆ remaining 0.00ms"
     ]
    },
    {
     "name": "stderr",
     "output_type": "stream",
     "text": [
      "|██████████| 100.0% ◆ elapsed 120.95ms ◆ remaining 0.00ms \n"
     ]
    },
    {
     "name": "stderr",
     "output_type": "stream",
     "text": [
      "|          |   0.3% ◆ elapsed 1.90ms ◆ remaining 0.00ms"
     ]
    },
    {
     "name": "stderr",
     "output_type": "stream",
     "text": [
      "|██████████| 100.0% ◆ elapsed 117.82ms ◆ remaining 0.00ms \n"
     ]
    }
   ],
   "source": [
    "# parameters\n",
    "na = 20  # number of Fock states\n",
    "nb = 5 \n",
    "T = 3 # time of evolution\n",
    "omega = jnp.pi/T  # detuning2=1\n",
    "Kb = 10\n",
    "g2 = 1"
   ]
  },
  {
   "cell_type": "code",
   "execution_count": 99,
   "metadata": {},
   "outputs": [
    {
     "name": "stderr",
     "output_type": "stream",
     "text": [
      "|██████████| 100.0% ◆ elapsed 153.08ms ◆ remaining 0.00ms \n",
      "100%|██████████| 50/50 [00:01<00:00, 28.48it/s]\n",
      "|██████████| 100.0% ◆ elapsed 149.62ms ◆ remaining 0.00ms \n",
      "100%|██████████| 50/50 [00:01<00:00, 35.31it/s]\n",
      "|██████████| 100.0% ◆ elapsed 149.57ms ◆ remaining 0.00ms \n",
      "100%|██████████| 50/50 [00:01<00:00, 30.42it/s]\n",
      "|██████████| 100.0% ◆ elapsed 153.98ms ◆ remaining 0.00ms \n",
      "100%|██████████| 50/50 [00:01<00:00, 35.27it/s]\n",
      "|██████████| 100.0% ◆ elapsed 157.01ms ◆ remaining 0.00ms \n",
      "100%|██████████| 50/50 [00:01<00:00, 34.61it/s]\n",
      "|██████████| 100.0% ◆ elapsed 152.99ms ◆ remaining 0.00ms \n",
      "100%|██████████| 50/50 [00:01<00:00, 29.25it/s]\n",
      "|██████████| 100.0% ◆ elapsed 152.94ms ◆ remaining 0.00ms \n",
      "100%|██████████| 50/50 [00:01<00:00, 35.07it/s]\n",
      "|██████████| 100.0% ◆ elapsed 149.99ms ◆ remaining 0.00ms \n",
      "100%|██████████| 50/50 [00:01<00:00, 35.13it/s]\n",
      "|██████████| 100.0% ◆ elapsed 155.75ms ◆ remaining 0.00ms \n",
      "100%|██████████| 50/50 [00:01<00:00, 28.11it/s]\n",
      "|██████████| 100.0% ◆ elapsed 164.04ms ◆ remaining 0.00ms \n",
      "100%|██████████| 50/50 [00:01<00:00, 34.88it/s]\n",
      "|██████████| 100.0% ◆ elapsed 153.50ms ◆ remaining 0.00ms \n",
      "100%|██████████| 50/50 [00:01<00:00, 35.19it/s]\n",
      "|██████████| 100.0% ◆ elapsed 154.43ms ◆ remaining 0.00ms \n",
      "100%|██████████| 50/50 [00:01<00:00, 34.53it/s]\n",
      "|██████████| 100.0% ◆ elapsed 149.56ms ◆ remaining 0.00ms \n",
      "100%|██████████| 50/50 [00:01<00:00, 34.78it/s]\n",
      "|██████████| 100.0% ◆ elapsed 154.02ms ◆ remaining 0.00ms \n",
      "100%|██████████| 50/50 [00:01<00:00, 26.75it/s]\n",
      "|██████████| 100.0% ◆ elapsed 153.78ms ◆ remaining 0.00ms \n",
      "100%|██████████| 50/50 [00:01<00:00, 35.37it/s]\n",
      "|██████████| 100.0% ◆ elapsed 156.33ms ◆ remaining 0.00ms \n",
      "100%|██████████| 50/50 [00:01<00:00, 35.06it/s]\n",
      "|██████████| 100.0% ◆ elapsed 146.11ms ◆ remaining 0.00ms \n",
      "100%|██████████| 50/50 [00:01<00:00, 35.19it/s]\n",
      "|██████████| 100.0% ◆ elapsed 152.92ms ◆ remaining 0.00ms \n",
      "100%|██████████| 50/50 [00:01<00:00, 35.13it/s]\n",
      "|██████████| 100.0% ◆ elapsed 148.31ms ◆ remaining 0.00ms \n",
      "100%|██████████| 50/50 [00:01<00:00, 25.52it/s]\n",
      "|██████████| 100.0% ◆ elapsed 153.77ms ◆ remaining 0.00ms \n",
      "100%|██████████| 50/50 [00:01<00:00, 35.08it/s]\n",
      "|██████████| 100.0% ◆ elapsed 152.93ms ◆ remaining 0.00ms \n",
      "100%|██████████| 50/50 [00:01<00:00, 35.01it/s]\n",
      "|██████████| 100.0% ◆ elapsed 154.63ms ◆ remaining 0.00ms \n",
      "100%|██████████| 50/50 [00:01<00:00, 35.04it/s]\n",
      "|██████████| 100.0% ◆ elapsed 150.69ms ◆ remaining 0.00ms \n",
      "100%|██████████| 50/50 [00:01<00:00, 35.14it/s]\n",
      "|██████████| 100.0% ◆ elapsed 151.14ms ◆ remaining 0.00ms \n",
      "100%|██████████| 50/50 [00:01<00:00, 34.39it/s]\n",
      "|██████████| 100.0% ◆ elapsed 158.08ms ◆ remaining 0.00ms \n",
      "100%|██████████| 50/50 [00:02<00:00, 24.14it/s]\n",
      "|██████████| 100.0% ◆ elapsed 146.98ms ◆ remaining 0.00ms \n",
      "100%|██████████| 50/50 [00:01<00:00, 35.25it/s]\n",
      "|██████████| 100.0% ◆ elapsed 153.64ms ◆ remaining 0.00ms \n",
      "100%|██████████| 50/50 [00:01<00:00, 34.92it/s]\n",
      "|██████████| 100.0% ◆ elapsed 151.32ms ◆ remaining 0.00ms \n",
      "100%|██████████| 50/50 [00:01<00:00, 34.72it/s]\n",
      "|██████████| 100.0% ◆ elapsed 150.86ms ◆ remaining 0.00ms \n",
      "100%|██████████| 50/50 [00:01<00:00, 34.73it/s]\n",
      "|██████████| 100.0% ◆ elapsed 155.97ms ◆ remaining 0.00ms \n",
      "100%|██████████| 50/50 [00:01<00:00, 34.71it/s]\n",
      "|██████████| 100.0% ◆ elapsed 153.54ms ◆ remaining 0.00ms \n",
      "100%|██████████| 50/50 [00:01<00:00, 34.56it/s]\n",
      "|██████████| 100.0% ◆ elapsed 151.43ms ◆ remaining 0.00ms \n",
      "100%|██████████| 50/50 [00:01<00:00, 34.16it/s]\n",
      "|██████████| 100.0% ◆ elapsed 147.23ms ◆ remaining 0.00ms \n",
      "100%|██████████| 50/50 [00:02<00:00, 23.08it/s]\n",
      "|██████████| 100.0% ◆ elapsed 153.92ms ◆ remaining 0.00ms \n",
      "100%|██████████| 50/50 [00:01<00:00, 34.96it/s]\n",
      "|██████████| 100.0% ◆ elapsed 151.92ms ◆ remaining 0.00ms \n",
      "100%|██████████| 50/50 [00:01<00:00, 35.03it/s]\n"
     ]
    },
    {
     "name": "stdout",
     "output_type": "stream",
     "text": [
      "Optimization terminated successfully.\n",
      "         Current function value: 3.000000\n",
      "         Iterations: 7\n",
      "         Function evaluations: 34\n",
      "[-10.  -6.  -4.]\n"
     ]
    }
   ],
   "source": [
    "def optimize(values):\n",
    "    # operators\n",
    "    a, b = dq.destroy(na, nb)\n",
    "\n",
    "    H_0 = g2 * dq.dag(a) @ dq.dag(a) @ b  + jnp.conj(g2) * a @ a @ dq.dag(b) \n",
    "\n",
    "    times = [0.0, 1, 2.0, 3.0]\n",
    "    qarray = b + dq.dag(b)\n",
    "    H_d = dq.pwc(times, values, qarray)\n",
    "\n",
    "    H = H_0 + H_d\n",
    "\n",
    "    # initial state and save time\n",
    "    psi0 = dq.fock((na,nb), (0,0))  # coherent state\n",
    "    t_save = jnp.linspace(0, T, 50)  # save times\n",
    "\n",
    "    jump_ops = [jnp.sqrt(Kb)*b]\n",
    "    res = dq.mesolve(H,jump_ops, psi0, t_save)\n",
    "\n",
    "    trace_a = dq.ptrace(res.states, 0,res.states.dims) # trace of a\n",
    "\n",
    "    dq.plot.wigner_gif(trace_a, fps=40)\n",
    "    trace_a_2mode = dq.ptrace(res_2_mode.states, 0,res_2_mode.states.dims) # trace of a\n",
    "    trace_a = dq.ptrace(res.states, 0,res.states.dims) # trace of a\n",
    "    fidelity_plot = dq.fidelity(trace_a, trace_a_2mode)\n",
    "\n",
    "    for t in range(50):\n",
    "        if tsave[t]>1 and fidelity_plot[t]>0.995:\n",
    "            print(tsave[t])\n",
    "            print(values)\n",
    "            return(tsave[t])\n",
    "\n",
    "        return(3)\n",
    "values = [-10.0, -6.0, -4.0]\n",
    "optimize(values)\n",
    "xopt = scipy.optimize.fmin(optimize, values, xtol=1e-2, disp=True)\n",
    "print(xopt)"
   ]
  },
  {
   "cell_type": "code",
   "execution_count": 100,
   "metadata": {},
   "outputs": [
    {
     "name": "stdout",
     "output_type": "stream",
     "text": [
      "(50,)\n"
     ]
    },
    {
     "data": {
      "text/plain": [
       "[<matplotlib.lines.Line2D at 0x305b3f320>]"
      ]
     },
     "execution_count": 100,
     "metadata": {},
     "output_type": "execute_result"
    },
    {
     "data": {
      "image/png": "[encoded data removed]",
      "text/plain": [
       "<Figure size 640x480 with 1 Axes>"
      ]
     },
     "metadata": {},
     "output_type": "display_data"
    }
   ],
   "source": [
    "trace_a_2mode = dq.ptrace(res_2_mode.states, 0,res_2_mode.states.dims) # trace of a\n",
    "trace_a = dq.ptrace(res.states, 0,res.states.dims) # trace of a\n",
    "fidelity_plot = dq.fidelity(trace_a, trace_a_2mode)\n",
    "print(fidelity_plot.shape)\n",
    "plt.plot(tsave, fidelity_plot)"
   ]
  }
 ],
 "metadata": {
  "kernelspec": {
   "display_name": "base",
   "language": "python",
   "name": "python3"
  },
  "language_info": {
   "codemirror_mode": {
    "name": "ipython",
    "version": 3
   },
   "file_extension": ".py",
   "mimetype": "text/x-python",
   "name": "python",
   "nbconvert_exporter": "python",
   "pygments_lexer": "ipython3",
   "version": "3.12.8"
  }
 },
 "nbformat": 4,
 "nbformat_minor": 2
}
