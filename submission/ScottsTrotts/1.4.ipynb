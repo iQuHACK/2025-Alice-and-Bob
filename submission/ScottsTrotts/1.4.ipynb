{
 "cells": [
  {
   "cell_type": "code",
   "execution_count": 1,
   "metadata": {},
   "outputs": [
    {
     "name": "stdout",
     "output_type": "stream",
     "text": [
      "Shape of psi0_fock: (100, 1)\n",
      "Shape of psi0_tensor: (100, 1)\n",
      "Shape of a_op: (100, 100)\n",
      "Shape of b_op: (100, 100)\n"
     ]
    }
   ],
   "source": [
    "import dynamiqs as dq\n",
    "import jax.numpy as jnp\n",
    "from matplotlib import pyplot as plt\n",
    "from globalConstants import *\n",
    "# Parameters\n",
    "na = 20           # Hilbert space dimension for mode a\n",
    "nb = 5            # Hilbert space dimension for mode b\n",
    "T = 4             # Total simulation time\n",
    "omega = jnp.pi / T  # Oscillator frequency\n",
    "eps = -4          # Coupling strength (example value)\n",
    "Kb = 10           # Decay rate (kappa in the paper)\n",
    "numTimes = 1000\n",
    "t_save = jnp.linspace(0, T, numTimes)  # Time array for saving states\n",
    "\n",
    "# Get annihilation operators for a two-mode system.\n",
    "# dq.destroy returns a tuple of QArrays if multiple dimensions are provided.\n",
    "a_op, b_op = dq.destroy(na, nb)\n",
    "# Note: The dimensions of the composite operator are (na*nb, na*nb)\n",
    "\n",
    "# For the identity on mode b, use dq.eye with dimension nb.\n",
    "Ib = dq.eye(nb)\n",
    "\n",
    "# Create the initial vacuum state in two ways:\n",
    "\n",
    "# 1. Using dq.fock with a tuple: first tuple gives the Hilbert space dimensions,\n",
    "#    second tuple gives the Fock indices for each mode.\n",
    "psi0_fock = dq.fock((na, nb), (0, 0))  # Vacuum state |0>_a ⊗ |0>_b\n",
    "\n",
    "# 2. Alternatively, create vacuum states as coherent states with amplitude 0\n",
    "psi0a = dq.coherent(na, 0)  # Vacuum state for mode a\n",
    "psi0b = dq.coherent(nb, 0)  # Vacuum state for mode b\n",
    "psi0_tensor = dq.tensor(psi0a, psi0b)  # Tensor product to get the composite state\n",
    "\n",
    "# Obtain the creation (dagger) operators using dq.dag\n",
    "adag_op = dq.dag(a_op)\n",
    "bdag_op = dq.dag(b_op)\n",
    "\n",
    "# (Optional) Print shapes to confirm correct dimensions\n",
    "print(\"Shape of psi0_fock:\", psi0_fock.shape)\n",
    "print(\"Shape of psi0_tensor:\", psi0_tensor.shape)\n",
    "print(\"Shape of a_op:\", a_op.shape)\n",
    "print(\"Shape of b_op:\", b_op.shape)\n",
    "\n",
    "# Now you can use psi0_fock (or psi0_tensor) as the initial state for your simulation.\n"
   ]
  },
  {
   "cell_type": "code",
   "execution_count": 10,
   "metadata": {},
   "outputs": [
    {
     "data": {
      "text/plain": [
       "2.0"
      ]
     },
     "execution_count": 10,
     "metadata": {},
     "output_type": "execute_result"
    }
   ],
   "source": [
    "alpha "
   ]
  },
  {
   "cell_type": "code",
   "execution_count": 11,
   "metadata": {},
   "outputs": [
    {
     "name": "stderr",
     "output_type": "stream",
     "text": [
      "|██████████| 100.0% ◆ elapsed 20.65ms ◆ remaining 0.00ms\n",
      "|██████████| 100.0% ◆ elapsed 8.31s ◆ remaining 0.00ms   \n",
      "ERROR:2025-02-02 05:34:25,249:jax._src.callback:97: jax.pure_callback failed\n",
      "Traceback (most recent call last):\n",
      "  File \"/Users/amer_/Documents/Obsidian Vault/Personal/Project Notes/Hackathon/iQuHack/lib/python3.12/site-packages/jax/_src/callback.py\", line 95, in pure_callback_impl\n",
      "    return tree_util.tree_map(np.asarray, callback(*args))\n",
      "                                          ^^^^^^^^^^^^^^^\n",
      "  File \"/Users/amer_/Documents/Obsidian Vault/Personal/Project Notes/Hackathon/iQuHack/lib/python3.12/site-packages/jax/_src/callback.py\", line 72, in __call__\n",
      "    return tree_util.tree_leaves(self.callback_func(*args, **kwargs))\n",
      "                                 ^^^^^^^^^^^^^^^^^^^^^^^^^^^^^^^^^^^\n",
      "  File \"/Users/amer_/Documents/Obsidian Vault/Personal/Project Notes/Hackathon/iQuHack/lib/python3.12/site-packages/equinox/_errors.py\", line 89, in raises\n",
      "    raise _EquinoxRuntimeError(\n",
      "equinox._errors._EquinoxRuntimeError: The maximum number of solver steps was reached. Try increasing `max_steps`.\n",
      "\n",
      "\n",
      "--------------------\n",
      "An error occurred during the runtime of your JAX program! Unfortunately you do not appear to be using `equinox.filter_jit` (perhaps you are using `jax.jit` instead?) and so further information about the error cannot be displayed. (Probably you are seeing a very large but uninformative error message right now.) Please wrap your program with `equinox.filter_jit`.\n",
      "--------------------\n",
      "\n"
     ]
    },
    {
     "ename": "XlaRuntimeError",
     "evalue": "FAILED_PRECONDITION: Buffer Definition Event: Error dispatching computation: %sError dispatching computation: %sError dispatching computation: %sError dispatching computation: %sError dispatching computation: %sError dispatching computation: %sError dispatching computation: %sError dispatching computation: %sError dispatching computation: %sCpuCallback error: Traceback (most recent call last):\n  File \"/Users/amer_/Documents/Obsidian Vault/Personal/Project Notes/Hackathon/iQuHack/lib/python3.12/site-packages/jax/_src/interpreters/mlir.py\", line 2960, in _wrapped_callback\n  File \"/Users/amer_/Documents/Obsidian Vault/Personal/Project Notes/Hackathon/iQuHack/lib/python3.12/site-packages/jax/_src/callback.py\", line 306, in _callback\n  File \"/Users/amer_/Documents/Obsidian Vault/Personal/Project Notes/Hackathon/iQuHack/lib/python3.12/site-packages/jax/_src/callback.py\", line 98, in pure_callback_impl\n  File \"/Users/amer_/Documents/Obsidian Vault/Personal/Project Notes/Hackathon/iQuHack/lib/python3.12/site-packages/jax/_src/callback.py\", line 72, in __call__\n  File \"/Users/amer_/Documents/Obsidian Vault/Personal/Project Notes/Hackathon/iQuHack/lib/python3.12/site-packages/equinox/_errors.py\", line 89, in raises\n_EquinoxRuntimeError: The maximum number of solver steps was reached. Try increasing `max_steps`.\n\n\n--------------------\nAn error occurred during the runtime of your JAX program! Unfortunately you do not appear to be using `equinox.filter_jit` (perhaps you are using `jax.jit` instead?) and so further information about the error cannot be displayed. (Probably you are seeing a very large but uninformative error message right now.) Please wrap your program with `equinox.filter_jit`.\n--------------------\n",
     "output_type": "error",
     "traceback": [
      "\u001b[0;31m---------------------------------------------------------------------------\u001b[0m",
      "\u001b[0;31mXlaRuntimeError\u001b[0m                           Traceback (most recent call last)",
      "Cell \u001b[0;32mIn[11], line 80\u001b[0m\n\u001b[1;32m     78\u001b[0m     updates, opt_state \u001b[38;5;241m=\u001b[39m optimizer\u001b[38;5;241m.\u001b[39mupdate(grads, opt_state)\n\u001b[1;32m     79\u001b[0m     eps_params \u001b[38;5;241m=\u001b[39m optax\u001b[38;5;241m.\u001b[39mapply_updates(eps_params, updates)\n\u001b[0;32m---> 80\u001b[0m     \u001b[38;5;28mprint\u001b[39m(\u001b[38;5;124mf\u001b[39m\u001b[38;5;124m\"\u001b[39m\u001b[38;5;124mIteration \u001b[39m\u001b[38;5;132;01m{\u001b[39;00mi\u001b[38;5;132;01m}\u001b[39;00m\u001b[38;5;124m: Loss = \u001b[39m\u001b[38;5;132;43;01m{\u001b[39;49;00m\u001b[43mloss\u001b[49m\u001b[43m(\u001b[49m\u001b[43meps_params\u001b[49m\u001b[43m)\u001b[49m\u001b[38;5;132;43;01m:\u001b[39;49;00m\u001b[38;5;124;43m.6f\u001b[39;49m\u001b[38;5;132;43;01m}\u001b[39;49;00m\u001b[38;5;124m\"\u001b[39m)\n\u001b[1;32m     82\u001b[0m times \u001b[38;5;241m=\u001b[39m jnp\u001b[38;5;241m.\u001b[39mlinspace(\u001b[38;5;241m0\u001b[39m, T, N_bins)\n\u001b[1;32m     83\u001b[0m plt\u001b[38;5;241m.\u001b[39mplot(times, jnp\u001b[38;5;241m.\u001b[39mreal(eps_params), label\u001b[38;5;241m=\u001b[39m\u001b[38;5;124m\"\u001b[39m\u001b[38;5;124mReal part\u001b[39m\u001b[38;5;124m\"\u001b[39m)\n",
      "File \u001b[0;32m~/Documents/Obsidian Vault/Personal/Project Notes/Hackathon/iQuHack/lib/python3.12/site-packages/jax/_src/array.py:328\u001b[0m, in \u001b[0;36mArrayImpl.__format__\u001b[0;34m(self, format_spec)\u001b[0m\n\u001b[1;32m    325\u001b[0m \u001b[38;5;28;01mdef\u001b[39;00m\u001b[38;5;250m \u001b[39m\u001b[38;5;21m__format__\u001b[39m(\u001b[38;5;28mself\u001b[39m, format_spec):\n\u001b[1;32m    326\u001b[0m   \u001b[38;5;66;03m# Simulates behavior of https://github.com/numpy/numpy/pull/9883\u001b[39;00m\n\u001b[1;32m    327\u001b[0m   \u001b[38;5;28;01mif\u001b[39;00m \u001b[38;5;28mself\u001b[39m\u001b[38;5;241m.\u001b[39mndim \u001b[38;5;241m==\u001b[39m \u001b[38;5;241m0\u001b[39m:\n\u001b[0;32m--> 328\u001b[0m     \u001b[38;5;28;01mreturn\u001b[39;00m \u001b[38;5;28mformat\u001b[39m(\u001b[38;5;28;43mself\u001b[39;49m\u001b[38;5;241;43m.\u001b[39;49m\u001b[43m_value\u001b[49m[()], format_spec)\n\u001b[1;32m    329\u001b[0m   \u001b[38;5;28;01melse\u001b[39;00m:\n\u001b[1;32m    330\u001b[0m     \u001b[38;5;28;01mreturn\u001b[39;00m \u001b[38;5;28mformat\u001b[39m(\u001b[38;5;28mself\u001b[39m\u001b[38;5;241m.\u001b[39m_value, format_spec)\n",
      "File \u001b[0;32m~/Documents/Obsidian Vault/Personal/Project Notes/Hackathon/iQuHack/lib/python3.12/site-packages/jax/_src/profiler.py:333\u001b[0m, in \u001b[0;36mannotate_function.<locals>.wrapper\u001b[0;34m(*args, **kwargs)\u001b[0m\n\u001b[1;32m    330\u001b[0m \u001b[38;5;129m@wraps\u001b[39m(func)\n\u001b[1;32m    331\u001b[0m \u001b[38;5;28;01mdef\u001b[39;00m\u001b[38;5;250m \u001b[39m\u001b[38;5;21mwrapper\u001b[39m(\u001b[38;5;241m*\u001b[39margs, \u001b[38;5;241m*\u001b[39m\u001b[38;5;241m*\u001b[39mkwargs):\n\u001b[1;32m    332\u001b[0m   \u001b[38;5;28;01mwith\u001b[39;00m TraceAnnotation(name, \u001b[38;5;241m*\u001b[39m\u001b[38;5;241m*\u001b[39mdecorator_kwargs):\n\u001b[0;32m--> 333\u001b[0m     \u001b[38;5;28;01mreturn\u001b[39;00m \u001b[43mfunc\u001b[49m\u001b[43m(\u001b[49m\u001b[38;5;241;43m*\u001b[39;49m\u001b[43margs\u001b[49m\u001b[43m,\u001b[49m\u001b[43m \u001b[49m\u001b[38;5;241;43m*\u001b[39;49m\u001b[38;5;241;43m*\u001b[39;49m\u001b[43mkwargs\u001b[49m\u001b[43m)\u001b[49m\n\u001b[1;32m    334\u001b[0m   \u001b[38;5;28;01mreturn\u001b[39;00m wrapper\n",
      "File \u001b[0;32m~/Documents/Obsidian Vault/Personal/Project Notes/Hackathon/iQuHack/lib/python3.12/site-packages/jax/_src/array.py:627\u001b[0m, in \u001b[0;36mArrayImpl._value\u001b[0;34m(self)\u001b[0m\n\u001b[1;32m    625\u001b[0m \u001b[38;5;28;01mif\u001b[39;00m \u001b[38;5;28mself\u001b[39m\u001b[38;5;241m.\u001b[39m_npy_value \u001b[38;5;129;01mis\u001b[39;00m \u001b[38;5;28;01mNone\u001b[39;00m:\n\u001b[1;32m    626\u001b[0m   \u001b[38;5;28;01mif\u001b[39;00m \u001b[38;5;28mself\u001b[39m\u001b[38;5;241m.\u001b[39mis_fully_replicated:\n\u001b[0;32m--> 627\u001b[0m     \u001b[38;5;28mself\u001b[39m\u001b[38;5;241m.\u001b[39m_npy_value \u001b[38;5;241m=\u001b[39m \u001b[38;5;28;43mself\u001b[39;49m\u001b[38;5;241;43m.\u001b[39;49m\u001b[43m_single_device_array_to_np_array\u001b[49m\u001b[43m(\u001b[49m\u001b[43m)\u001b[49m\n\u001b[1;32m    628\u001b[0m     \u001b[38;5;28mself\u001b[39m\u001b[38;5;241m.\u001b[39m_npy_value\u001b[38;5;241m.\u001b[39mflags\u001b[38;5;241m.\u001b[39mwriteable \u001b[38;5;241m=\u001b[39m \u001b[38;5;28;01mFalse\u001b[39;00m\n\u001b[1;32m    629\u001b[0m     \u001b[38;5;28;01mreturn\u001b[39;00m cast(np\u001b[38;5;241m.\u001b[39mndarray, \u001b[38;5;28mself\u001b[39m\u001b[38;5;241m.\u001b[39m_npy_value)\n",
      "\u001b[0;31mXlaRuntimeError\u001b[0m: FAILED_PRECONDITION: Buffer Definition Event: Error dispatching computation: %sError dispatching computation: %sError dispatching computation: %sError dispatching computation: %sError dispatching computation: %sError dispatching computation: %sError dispatching computation: %sError dispatching computation: %sError dispatching computation: %sCpuCallback error: Traceback (most recent call last):\n  File \"/Users/amer_/Documents/Obsidian Vault/Personal/Project Notes/Hackathon/iQuHack/lib/python3.12/site-packages/jax/_src/interpreters/mlir.py\", line 2960, in _wrapped_callback\n  File \"/Users/amer_/Documents/Obsidian Vault/Personal/Project Notes/Hackathon/iQuHack/lib/python3.12/site-packages/jax/_src/callback.py\", line 306, in _callback\n  File \"/Users/amer_/Documents/Obsidian Vault/Personal/Project Notes/Hackathon/iQuHack/lib/python3.12/site-packages/jax/_src/callback.py\", line 98, in pure_callback_impl\n  File \"/Users/amer_/Documents/Obsidian Vault/Personal/Project Notes/Hackathon/iQuHack/lib/python3.12/site-packages/jax/_src/callback.py\", line 72, in __call__\n  File \"/Users/amer_/Documents/Obsidian Vault/Personal/Project Notes/Hackathon/iQuHack/lib/python3.12/site-packages/equinox/_errors.py\", line 89, in raises\n_EquinoxRuntimeError: The maximum number of solver steps was reached. Try increasing `max_steps`.\n\n\n--------------------\nAn error occurred during the runtime of your JAX program! Unfortunately you do not appear to be using `equinox.filter_jit` (perhaps you are using `jax.jit` instead?) and so further information about the error cannot be displayed. (Probably you are seeing a very large but uninformative error message right now.) Please wrap your program with `equinox.filter_jit`.\n--------------------\n"
     ]
    }
   ],
   "source": [
    "import dynamiqs as dq\n",
    "import jax\n",
    "import jax.numpy as jnp\n",
    "from matplotlib import pyplot as plt\n",
    "import optax\n",
    "\n",
    "# Set device to GPU if available (uncomment if GPU is present)\n",
    "# dq.set_device(\"gpu\")\n",
    "\n",
    "# Simulation parameters (use lower resolution for debugging)\n",
    "N_cutoff = 20  # Hilbert space dimension for the mode\n",
    "T = 3.0 # Total evolution time\n",
    "numTimes = 200 # Reduced number of time steps\n",
    "t_save = jnp.linspace(0, T, numTimes)\n",
    "\n",
    "# Create the bosonic annihilation operator for a single mode.\n",
    "a_op = dq.destroy(N_cutoff)\n",
    "adag_op = dq.dag(a_op)\n",
    "\n",
    "# Create the vacuum state as the 0-th Fock state (converted via dq.to_jax)\n",
    "psi0 = dq.fock(N_cutoff, 0)\n",
    "\n",
    "# Define a piecewise constant drive function.\n",
    "def eps_d(t, eps_params):\n",
    "    t = jnp.asarray(t)\n",
    "    N_bins = eps_params.shape[0]\n",
    "    bin_index = jnp.minimum((t / T * N_bins).astype(jnp.int32), N_bins - 1)\n",
    "    return eps_params[bin_index]\n",
    "\n",
    "def drive_Hamiltonian(t, eps_params):\n",
    "    drive = eps_d(t, eps_params)\n",
    "    return jnp.conjugate(drive) * a_op + drive * adag_op\n",
    "\n",
    "def H_2ph():\n",
    "    return 0 * a_op\n",
    "\n",
    "def H_total(t, eps_params):\n",
    "    return H_2ph() + drive_Hamiltonian(t, eps_params)\n",
    "\n",
    "# Define the target cat state with alpha = 2.\n",
    "alpha = 2.0\n",
    "psi_alpha = dq.coherent(N_cutoff, alpha)\n",
    "psi_minus = dq.coherent(N_cutoff, -alpha)\n",
    "norm = jnp.sqrt(2 * (1 + jnp.exp(-2 * alpha**2)))\n",
    "cat_target = (psi_alpha + psi_minus) / norm\n",
    "\n",
    "# Use a smaller number of drive bins for faster optimization.\n",
    "N_bins = 50\n",
    "eps_params_init = jnp.ones(N_bins, dtype=jnp.complex64) * 0.1\n",
    "\n",
    "def make_H_time(eps_params):\n",
    "    return dq.timecallable(lambda t: H_total(t, eps_params))\n",
    "jumpOp = [(a_op@a_op)]\n",
    "\n",
    "# jumpOp = [dq.zeros(a_op.shape[0])]\n",
    "def loss(eps_params):\n",
    "    H_time_current = make_H_time(eps_params)\n",
    "    result = dq.mesolve(H_time_current,jumpOp, psi0, t_save)\n",
    "    # result = dq.sesolve(H_time_current, psi0, t_save)\n",
    "\n",
    "    final_state = result.states[-1]\n",
    "    # fid = dq.fidelity(final_state, cat_target)\n",
    "    a = dq.destroy(psi0.shape[0])\n",
    "    adag = dq.dag(a)\n",
    "    N = adag@a\n",
    "    expecVal = dq.expect(N, final_state)\n",
    "    return (jnp.real((expecVal-4)/(alpha**2))**2)\n",
    "\n",
    "grad_loss = jax.grad(loss)\n",
    "optimizer = optax.adam(learning_rate=0.01)\n",
    "opt_state = optimizer.init(eps_params_init)\n",
    "eps_params = eps_params_init\n",
    "\n",
    "# For debugging, use fewer iterations.\n",
    "n_iterations = 50\n",
    "for i in range(n_iterations):\n",
    "    grads = grad_loss(eps_params)\n",
    "    updates, opt_state = optimizer.update(grads, opt_state)\n",
    "    eps_params = optax.apply_updates(eps_params, updates)\n",
    "    print(f\"Iteration {i}: Loss = {loss(eps_params):.6f}\")\n",
    "\n",
    "times = jnp.linspace(0, T, N_bins)\n",
    "plt.plot(times, jnp.real(eps_params), label=\"Real part\")\n",
    "plt.plot(times, jnp.imag(eps_params), label=\"Imaginary part\")\n",
    "plt.xlabel(\"Time\")\n",
    "plt.ylabel(\"Drive amplitude\")\n",
    "plt.legend()\n",
    "plt.show()\n"
   ]
  }
 ],
 "metadata": {
  "kernelspec": {
   "display_name": "iQuHack",
   "language": "python",
   "name": "python3"
  },
  "language_info": {
   "codemirror_mode": {
    "name": "ipython",
    "version": 3
   },
   "file_extension": ".py",
   "mimetype": "text/x-python",
   "name": "python",
   "nbconvert_exporter": "python",
   "pygments_lexer": "ipython3",
   "version": "3.12.7"
  }
 },
 "nbformat": 4,
 "nbformat_minor": 2
}
